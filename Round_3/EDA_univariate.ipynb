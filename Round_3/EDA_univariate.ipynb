{
 "cells": [
  {
   "cell_type": "code",
   "execution_count": 1,
   "id": "7e12f26f",
   "metadata": {},
   "outputs": [],
   "source": [
    "import pandas as pd"
   ]
  },
  {
   "cell_type": "code",
   "execution_count": 2,
   "id": "009f8692",
   "metadata": {},
   "outputs": [
    {
     "data": {
      "application/vnd.microsoft.datawrangler.viewer.v0+json": {
       "columns": [
        {
         "name": "index",
         "rawType": "int64",
         "type": "integer"
        },
        {
         "name": "CODE_POS",
         "rawType": "object",
         "type": "string"
        },
        {
         "name": "SALESROOM_PROVINCE",
         "rawType": "object",
         "type": "string"
        }
       ],
       "ref": "755332aa-c956-4ee3-b99b-26b41f967432",
       "rows": [
        [
         "0",
         "410163",
         "Hai Phong"
        ],
        [
         "1",
         "400714",
         "Nghe An"
        ],
        [
         "2",
         "240068",
         "Binh Phuoc"
        ],
        [
         "3",
         "170525",
         "Kien Giang"
        ],
        [
         "4",
         "540196",
         "Lao Cai"
        ],
        [
         "5",
         "310320",
         "Soc Trang"
        ],
        [
         "6",
         "170109",
         "Kien Giang"
        ],
        [
         "7",
         "222598",
         "Ha Noi"
        ],
        [
         "8",
         "320412",
         "Phu Tho"
        ],
        [
         "9",
         "490423",
         "Nam Dinh"
        ],
        [
         "10",
         "400794",
         "Nghe An"
        ],
        [
         "11",
         "21107",
         "Dong Nai"
        ],
        [
         "12",
         "420481",
         "Dong Thap"
        ],
        [
         "13",
         "380357",
         "Hai Duong"
        ],
        [
         "14",
         "221938",
         "Ha Noi"
        ],
        [
         "15",
         "460378",
         "Thai Nguyen"
        ],
        [
         "16",
         "40160",
         "Vinh Long"
        ],
        [
         "17",
         "222529",
         "Ha Noi"
        ],
        [
         "18",
         "390301",
         "Phu Yen"
        ],
        [
         "19",
         "470165",
         "Bac Giang"
        ],
        [
         "20",
         "22860",
         "Dong Nai"
        ],
        [
         "21",
         "220295",
         "Ha Noi"
        ],
        [
         "22",
         "310040",
         "Soc Trang"
        ],
        [
         "23",
         "210108",
         "Lam Dong"
        ],
        [
         "24",
         "130164",
         "Binh Dinh"
        ],
        [
         "25",
         "280291",
         "Quang Binh"
        ],
        [
         "26",
         "1W0163",
         "TP Ho Chi Minh"
        ],
        [
         "27",
         "190511",
         "Tay Ninh"
        ],
        [
         "28",
         "1W0476",
         "TP Ho Chi Minh"
        ],
        [
         "29",
         "530247",
         "Ninh Binh"
        ],
        [
         "30",
         "450192",
         "Quang Tri"
        ],
        [
         "31",
         "210391",
         "Lam Dong"
        ],
        [
         "32",
         "10879",
         "TP Ho Chi Minh"
        ],
        [
         "33",
         "12666",
         "TP Ho Chi Minh"
        ],
        [
         "34",
         "250253",
         "Vinh Phuc"
        ],
        [
         "35",
         "12699",
         "TP Ho Chi Minh"
        ],
        [
         "36",
         "12634",
         "TP Ho Chi Minh"
        ],
        [
         "37",
         "21793",
         "Dong Nai"
        ],
        [
         "38",
         "150586",
         "Ba Ria - Vung Tau"
        ],
        [
         "39",
         "222661",
         "Ha Noi"
        ],
        [
         "40",
         "20019",
         "Dong Nai"
        ],
        [
         "41",
         "420321",
         "Dong Thap"
        ],
        [
         "42",
         "90097",
         "Da Nang"
        ],
        [
         "43",
         "490376",
         "Nam Dinh"
        ],
        [
         "44",
         "170570",
         "Kien Giang"
        ],
        [
         "45",
         "500357",
         "Thai Binh"
        ],
        [
         "46",
         "40226",
         "Vinh Long"
        ],
        [
         "47",
         "440874",
         "Thanh Hoa"
        ],
        [
         "48",
         "11674",
         "TP Ho Chi Minh"
        ],
        [
         "49",
         "230173",
         "Quang Ngai"
        ]
       ],
       "shape": {
        "columns": 2,
        "rows": 64343
       }
      },
      "text/html": [
       "<div>\n",
       "<style scoped>\n",
       "    .dataframe tbody tr th:only-of-type {\n",
       "        vertical-align: middle;\n",
       "    }\n",
       "\n",
       "    .dataframe tbody tr th {\n",
       "        vertical-align: top;\n",
       "    }\n",
       "\n",
       "    .dataframe thead th {\n",
       "        text-align: right;\n",
       "    }\n",
       "</style>\n",
       "<table border=\"1\" class=\"dataframe\">\n",
       "  <thead>\n",
       "    <tr style=\"text-align: right;\">\n",
       "      <th></th>\n",
       "      <th>CODE_POS</th>\n",
       "      <th>SALESROOM_PROVINCE</th>\n",
       "    </tr>\n",
       "  </thead>\n",
       "  <tbody>\n",
       "    <tr>\n",
       "      <th>0</th>\n",
       "      <td>410163</td>\n",
       "      <td>Hai Phong</td>\n",
       "    </tr>\n",
       "    <tr>\n",
       "      <th>1</th>\n",
       "      <td>400714</td>\n",
       "      <td>Nghe An</td>\n",
       "    </tr>\n",
       "    <tr>\n",
       "      <th>2</th>\n",
       "      <td>240068</td>\n",
       "      <td>Binh Phuoc</td>\n",
       "    </tr>\n",
       "    <tr>\n",
       "      <th>3</th>\n",
       "      <td>170525</td>\n",
       "      <td>Kien Giang</td>\n",
       "    </tr>\n",
       "    <tr>\n",
       "      <th>4</th>\n",
       "      <td>540196</td>\n",
       "      <td>Lao Cai</td>\n",
       "    </tr>\n",
       "    <tr>\n",
       "      <th>...</th>\n",
       "      <td>...</td>\n",
       "      <td>...</td>\n",
       "    </tr>\n",
       "    <tr>\n",
       "      <th>64338</th>\n",
       "      <td>121362</td>\n",
       "      <td>An Giang</td>\n",
       "    </tr>\n",
       "    <tr>\n",
       "      <th>64339</th>\n",
       "      <td>121361</td>\n",
       "      <td>An Giang</td>\n",
       "    </tr>\n",
       "    <tr>\n",
       "      <th>64340</th>\n",
       "      <td>300501</td>\n",
       "      <td>Bac Lieu</td>\n",
       "    </tr>\n",
       "    <tr>\n",
       "      <th>64341</th>\n",
       "      <td>15026</td>\n",
       "      <td>TP Ho Chi Minh</td>\n",
       "    </tr>\n",
       "    <tr>\n",
       "      <th>64342</th>\n",
       "      <td>510497</td>\n",
       "      <td>Son La</td>\n",
       "    </tr>\n",
       "  </tbody>\n",
       "</table>\n",
       "<p>64343 rows × 2 columns</p>\n",
       "</div>"
      ],
      "text/plain": [
       "      CODE_POS SALESROOM_PROVINCE\n",
       "0       410163          Hai Phong\n",
       "1       400714            Nghe An\n",
       "2       240068         Binh Phuoc\n",
       "3       170525         Kien Giang\n",
       "4       540196            Lao Cai\n",
       "...        ...                ...\n",
       "64338   121362           An Giang\n",
       "64339   121361           An Giang\n",
       "64340   300501           Bac Lieu\n",
       "64341    15026     TP Ho Chi Minh\n",
       "64342   510497             Son La\n",
       "\n",
       "[64343 rows x 2 columns]"
      ]
     },
     "execution_count": 2,
     "metadata": {},
     "output_type": "execute_result"
    }
   ],
   "source": [
    "shop_df = pd.read_csv(r'cleaned_data/shop.csv')\n",
    "shop_df"
   ]
  },
  {
   "cell_type": "code",
   "execution_count": null,
   "id": "634b9db8",
   "metadata": {},
   "outputs": [],
   "source": []
  }
 ],
 "metadata": {
  "kernelspec": {
   "display_name": "Python 3",
   "language": "python",
   "name": "python3"
  },
  "language_info": {
   "codemirror_mode": {
    "name": "ipython",
    "version": 3
   },
   "file_extension": ".py",
   "mimetype": "text/x-python",
   "name": "python",
   "nbconvert_exporter": "python",
   "pygments_lexer": "ipython3",
   "version": "3.12.0"
  }
 },
 "nbformat": 4,
 "nbformat_minor": 5
}

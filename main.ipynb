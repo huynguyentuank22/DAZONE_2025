{
 "cells": [
  {
   "cell_type": "code",
   "execution_count": 232,
   "id": "1ee7bbbe",
   "metadata": {},
   "outputs": [],
   "source": [
    "import pandas as pd\n",
    "import numpy as np\n",
    "import unicodedata\n",
    "from unidecode import unidecode"
   ]
  },
  {
   "cell_type": "markdown",
   "id": "7d66818a",
   "metadata": {},
   "source": [
    "# **Preprocessing user_info dataset**"
   ]
  },
  {
   "cell_type": "code",
   "execution_count": 233,
   "id": "1ee5a1f3",
   "metadata": {},
   "outputs": [
    {
     "data": {
      "application/vnd.microsoft.datawrangler.viewer.v0+json": {
       "columns": [
        {
         "name": "index",
         "rawType": "int64",
         "type": "integer"
        },
        {
         "name": "user_id",
         "rawType": "int64",
         "type": "integer"
        },
        {
         "name": "age",
         "rawType": "float64",
         "type": "float"
        },
        {
         "name": "sex",
         "rawType": "object",
         "type": "string"
        },
        {
         "name": "phone",
         "rawType": "object",
         "type": "unknown"
        },
        {
         "name": "job",
         "rawType": "object",
         "type": "unknown"
        },
        {
         "name": "carrier",
         "rawType": "object",
         "type": "string"
        },
        {
         "name": "marital_status",
         "rawType": "object",
         "type": "string"
        }
       ],
       "ref": "bf16a0f8-4c53-4d8a-9975-aebb039929a9",
       "rows": [
        [
         "0",
         "376517",
         "44.0",
         "gentle",
         "******6654",
         "Thực tập sinh giáo dục",
         "other",
         "Married"
        ],
        [
         "1",
         "234512",
         "39.0",
         "lady",
         null,
         null,
         "vietnamobile",
         "Married"
        ],
        [
         "2",
         "344532",
         "39.0",
         "she",
         "******6296",
         "DevOps Engineer",
         "other",
         "cưới"
        ],
        [
         "3",
         "186135",
         "37.0",
         "she",
         "******1502",
         "Thực tập sinh giáo dục",
         "vietnamobile",
         "cưới"
        ],
        [
         "4",
         "30230",
         "38.0",
         "female",
         "******4966",
         "DevOps Engineer",
         "viettel",
         "Married"
        ]
       ],
       "shape": {
        "columns": 7,
        "rows": 5
       }
      },
      "text/html": [
       "<div>\n",
       "<style scoped>\n",
       "    .dataframe tbody tr th:only-of-type {\n",
       "        vertical-align: middle;\n",
       "    }\n",
       "\n",
       "    .dataframe tbody tr th {\n",
       "        vertical-align: top;\n",
       "    }\n",
       "\n",
       "    .dataframe thead th {\n",
       "        text-align: right;\n",
       "    }\n",
       "</style>\n",
       "<table border=\"1\" class=\"dataframe\">\n",
       "  <thead>\n",
       "    <tr style=\"text-align: right;\">\n",
       "      <th></th>\n",
       "      <th>user_id</th>\n",
       "      <th>age</th>\n",
       "      <th>sex</th>\n",
       "      <th>phone</th>\n",
       "      <th>job</th>\n",
       "      <th>carrier</th>\n",
       "      <th>marital_status</th>\n",
       "    </tr>\n",
       "  </thead>\n",
       "  <tbody>\n",
       "    <tr>\n",
       "      <th>0</th>\n",
       "      <td>376517</td>\n",
       "      <td>44.0</td>\n",
       "      <td>gentle</td>\n",
       "      <td>******6654</td>\n",
       "      <td>Thực tập sinh giáo dục</td>\n",
       "      <td>other</td>\n",
       "      <td>Married</td>\n",
       "    </tr>\n",
       "    <tr>\n",
       "      <th>1</th>\n",
       "      <td>234512</td>\n",
       "      <td>39.0</td>\n",
       "      <td>lady</td>\n",
       "      <td>NaN</td>\n",
       "      <td>NaN</td>\n",
       "      <td>vietnamobile</td>\n",
       "      <td>Married</td>\n",
       "    </tr>\n",
       "    <tr>\n",
       "      <th>2</th>\n",
       "      <td>344532</td>\n",
       "      <td>39.0</td>\n",
       "      <td>she</td>\n",
       "      <td>******6296</td>\n",
       "      <td>DevOps Engineer</td>\n",
       "      <td>other</td>\n",
       "      <td>cưới</td>\n",
       "    </tr>\n",
       "    <tr>\n",
       "      <th>3</th>\n",
       "      <td>186135</td>\n",
       "      <td>37.0</td>\n",
       "      <td>she</td>\n",
       "      <td>******1502</td>\n",
       "      <td>Thực tập sinh giáo dục</td>\n",
       "      <td>vietnamobile</td>\n",
       "      <td>cưới</td>\n",
       "    </tr>\n",
       "    <tr>\n",
       "      <th>4</th>\n",
       "      <td>30230</td>\n",
       "      <td>38.0</td>\n",
       "      <td>female</td>\n",
       "      <td>******4966</td>\n",
       "      <td>DevOps Engineer</td>\n",
       "      <td>viettel</td>\n",
       "      <td>Married</td>\n",
       "    </tr>\n",
       "  </tbody>\n",
       "</table>\n",
       "</div>"
      ],
      "text/plain": [
       "   user_id   age     sex       phone                     job       carrier  \\\n",
       "0   376517  44.0  gentle  ******6654  Thực tập sinh giáo dục         other   \n",
       "1   234512  39.0    lady         NaN                     NaN  vietnamobile   \n",
       "2   344532  39.0     she  ******6296         DevOps Engineer         other   \n",
       "3   186135  37.0     she  ******1502  Thực tập sinh giáo dục  vietnamobile   \n",
       "4    30230  38.0  female  ******4966         DevOps Engineer       viettel   \n",
       "\n",
       "  marital_status  \n",
       "0        Married  \n",
       "1        Married  \n",
       "2           cưới  \n",
       "3           cưới  \n",
       "4        Married  "
      ]
     },
     "execution_count": 233,
     "metadata": {},
     "output_type": "execute_result"
    }
   ],
   "source": [
    "user_info = pd.read_csv(r'data/user_info.csv')\n",
    "user_info.head()"
   ]
  },
  {
   "cell_type": "code",
   "execution_count": 234,
   "id": "d7019233",
   "metadata": {},
   "outputs": [
    {
     "name": "stdout",
     "output_type": "stream",
     "text": [
      "<class 'pandas.core.frame.DataFrame'>\n",
      "RangeIndex: 424170 entries, 0 to 424169\n",
      "Data columns (total 7 columns):\n",
      " #   Column          Non-Null Count   Dtype  \n",
      "---  ------          --------------   -----  \n",
      " 0   user_id         424170 non-null  int64  \n",
      " 1   age             328803 non-null  float64\n",
      " 2   sex             418652 non-null  object \n",
      " 3   phone           402962 non-null  object \n",
      " 4   job             402962 non-null  object \n",
      " 5   carrier         402962 non-null  object \n",
      " 6   marital_status  423813 non-null  object \n",
      "dtypes: float64(1), int64(1), object(5)\n",
      "memory usage: 22.7+ MB\n"
     ]
    }
   ],
   "source": [
    "user_info.info()"
   ]
  },
  {
   "cell_type": "code",
   "execution_count": 235,
   "id": "e6a31b71",
   "metadata": {},
   "outputs": [
    {
     "data": {
      "application/vnd.microsoft.datawrangler.viewer.v0+json": {
       "columns": [
        {
         "name": "index",
         "rawType": "object",
         "type": "string"
        },
        {
         "name": "0",
         "rawType": "float64",
         "type": "float"
        }
       ],
       "ref": "5d13881e-8a35-465e-a922-2928edbce368",
       "rows": [
        [
         "user_id",
         "0.0"
        ],
        [
         "age",
         "0.22"
        ],
        [
         "sex",
         "0.01"
        ],
        [
         "phone",
         "0.05"
        ],
        [
         "job",
         "0.05"
        ],
        [
         "carrier",
         "0.05"
        ],
        [
         "marital_status",
         "0.0"
        ]
       ],
       "shape": {
        "columns": 1,
        "rows": 7
       }
      },
      "text/plain": [
       "user_id           0.00\n",
       "age               0.22\n",
       "sex               0.01\n",
       "phone             0.05\n",
       "job               0.05\n",
       "carrier           0.05\n",
       "marital_status    0.00\n",
       "dtype: float64"
      ]
     },
     "execution_count": 235,
     "metadata": {},
     "output_type": "execute_result"
    }
   ],
   "source": [
    "# Check ratio of missing values all columns\n",
    "missing_values = round(user_info.isnull().sum() / len(user_info), 2)\n",
    "missing_values"
   ]
  },
  {
   "cell_type": "markdown",
   "id": "13000d05",
   "metadata": {},
   "source": [
    "## **Preprocessing `age` column**"
   ]
  },
  {
   "cell_type": "code",
   "execution_count": 236,
   "id": "3237df7c",
   "metadata": {},
   "outputs": [
    {
     "data": {
      "application/vnd.microsoft.datawrangler.viewer.v0+json": {
       "columns": [
        {
         "name": "index",
         "rawType": "int64",
         "type": "integer"
        },
        {
         "name": "user_id",
         "rawType": "int64",
         "type": "integer"
        },
        {
         "name": "age",
         "rawType": "float64",
         "type": "float"
        },
        {
         "name": "sex",
         "rawType": "object",
         "type": "unknown"
        },
        {
         "name": "phone",
         "rawType": "object",
         "type": "unknown"
        },
        {
         "name": "job",
         "rawType": "object",
         "type": "unknown"
        },
        {
         "name": "carrier",
         "rawType": "object",
         "type": "unknown"
        },
        {
         "name": "marital_status",
         "rawType": "object",
         "type": "unknown"
        }
       ],
       "ref": "70b423a3-952c-4642-9758-4f5663d5fb21",
       "rows": [
        [
         "28",
         "171799",
         null,
         "men",
         "******0902",
         null,
         "vietnamobile",
         "ly hôn"
        ],
        [
         "103",
         "32350",
         null,
         "male",
         "******1341",
         "Y tá",
         "vietnamobile",
         "Divorced"
        ],
        [
         "132",
         "210917",
         null,
         "male",
         "*****4773",
         "Nhân viên lễ tân",
         "mobiphone",
         "ly hôn"
        ],
        [
         "144",
         "38665",
         null,
         "men",
         "*****7182",
         "Luật sư",
         "vietnamobile",
         "Married"
        ],
        [
         "146",
         "115159",
         null,
         "gentle",
         "******2492",
         "Chuyên viên bảo mật",
         "mobiphone",
         "Married"
        ],
        [
         "176",
         "295093",
         null,
         "men",
         "*****8294",
         "Thư ký pháp lý",
         "viettel",
         "ly hôn"
        ],
        [
         "353",
         "352265",
         null,
         "she",
         "*****7571",
         "Nghệ sĩ",
         "vietnamobile",
         "Married"
        ],
        [
         "390",
         "41712",
         null,
         "gentle",
         "*******3278",
         null,
         "mobiphone",
         null
        ],
        [
         "544",
         "108565",
         null,
         "lady",
         "******4854",
         "Thực Tập",
         null,
         "Married"
        ],
        [
         "666",
         "133622",
         null,
         "gentle",
         "******1214",
         "Kiến trúc sư",
         "vietnamobile",
         "ly hôn"
        ],
        [
         "683",
         "131526",
         null,
         "female",
         "*****6210",
         "Chuyên viên tư vấn tuyển sinh",
         "viettel",
         "Married"
        ],
        [
         "694",
         "71034",
         null,
         "woman",
         "******2954",
         "Lập trình viên",
         "vinaphone",
         "Divorced"
        ],
        [
         "751",
         "105211",
         null,
         "M",
         "*******9578",
         "Chuyên viên tư vấn tuyển sinh",
         "other",
         "Divorced"
        ],
        [
         "752",
         "51409",
         null,
         "lady",
         "******4081",
         "Nhân viên nhà hàng",
         "vietnamobile",
         "Married"
        ],
        [
         "767",
         "418429",
         null,
         "unknown",
         "*******7247",
         "Giảng viên",
         "vinaphone",
         "ly hôn"
        ],
        [
         "770",
         "29498",
         null,
         "gentle",
         "*****1012",
         "Nhà báo",
         "mobiphone",
         null
        ],
        [
         "813",
         "185312",
         null,
         "lady",
         null,
         "Thực tập sinh giáo dục",
         "other",
         "Divorced"
        ],
        [
         "844",
         "43798",
         null,
         "she",
         "******2908",
         "Nhân viên lễ tân",
         "mobiphone",
         "Divorced"
        ],
        [
         "967",
         "6648",
         null,
         "she",
         "******5962",
         null,
         "vietnamobile",
         "ly hôn"
        ],
        [
         "1022",
         "420913",
         null,
         "he",
         "******6227",
         "Thực tập sinh giáo dục",
         "vinaphone",
         "Married"
        ],
        [
         "1031",
         "220423",
         null,
         "girl",
         "******3831",
         "Giáo viên",
         "vinaphone",
         "ly hôn"
        ],
        [
         "1057",
         "269274",
         null,
         "she",
         "******2907",
         "Chuyên viên phân tích thị trường",
         "vietnamobile",
         "ly hôn"
        ],
        [
         "1060",
         "311667",
         null,
         "she",
         "******9352",
         "Chuyên viên nhân sự",
         "other",
         "Divorced"
        ],
        [
         "1084",
         "304565",
         null,
         "M",
         "*******7883",
         "Chuyên viên tư vấn tuyển sinh",
         "vinaphone",
         "Married"
        ],
        [
         "1120",
         "231558",
         null,
         "lady",
         "******6703",
         "Chuyên viên phân tích thị trường",
         "mobiphone",
         "Married"
        ],
        [
         "1140",
         "245569",
         null,
         "girl",
         "******1149",
         "UX/UI Designer",
         "viettel",
         "ly hôn"
        ],
        [
         "1162",
         "54069",
         null,
         "female",
         "******5013",
         "Kỹ sư nông nghiệp",
         "mobiphone",
         "Divorced"
        ],
        [
         "1169",
         "204120",
         null,
         "lady",
         null,
         "Chuyên viên phân tích thị trường",
         "vinaphone",
         "ly hôn"
        ],
        [
         "1188",
         "152723",
         null,
         null,
         "*******2488",
         "Giảng viên",
         "vinaphone",
         "ly hôn"
        ],
        [
         "1225",
         "199493",
         null,
         "she",
         "******3778",
         "Kiến trúc sư phần mềm",
         null,
         "Married"
        ],
        [
         "1260",
         "330232",
         null,
         "she",
         "*****1658",
         null,
         "vinaphone",
         "ly hôn"
        ],
        [
         "1263",
         "193412",
         null,
         "M",
         "******1179",
         "Thực tập sinh giáo dục",
         "other",
         "Divorced"
        ],
        [
         "1275",
         "369090",
         null,
         "lady",
         "*****7600",
         "Thực Tập",
         "other",
         "Married"
        ],
        [
         "1313",
         "221926",
         null,
         "she",
         null,
         "Y tá",
         "mobiphone",
         "ly hôn"
        ],
        [
         "1332",
         "221321",
         null,
         "lady",
         "******3434",
         "Kiến trúc sư",
         "viettel",
         "Divorced"
        ],
        [
         "1343",
         "307905",
         null,
         "female",
         "*****6193",
         "Tư vấn khách hàng",
         "other",
         "ly hôn"
        ],
        [
         "1351",
         "359468",
         null,
         "girl",
         "*****9640",
         "Chuyên viên nhân sự",
         "other",
         "Divorced"
        ],
        [
         "1432",
         "197039",
         null,
         "she",
         "******3625",
         "Kỹ sư sản xuất",
         "vietnamobile",
         "Divorced"
        ],
        [
         "1505",
         "94563",
         null,
         "gеntle",
         "******7466",
         "Nhân viên kinh doanh",
         "vinaphone",
         "Married"
        ],
        [
         "1520",
         "228934",
         null,
         "female",
         "******0228",
         "Nhà báo",
         "other",
         "ly hôn"
        ],
        [
         "1528",
         "376561",
         null,
         "girl",
         "*******0312",
         "Điều Dưỡng",
         "mobiphone",
         "Divorced"
        ],
        [
         "1529",
         "310466",
         null,
         "woman",
         "*****2146",
         "Nhân Viên Bán Hàng",
         "vinaphone",
         "Divorced"
        ],
        [
         "1595",
         "79392",
         null,
         "male",
         "******2969",
         "Nghệ sĩ",
         "vinaphone",
         "Married"
        ],
        [
         "1607",
         "26972",
         null,
         "female",
         "******0590",
         null,
         "mobiphone",
         "ly hôn"
        ],
        [
         "1608",
         "289427",
         null,
         "unknown",
         "*******0480",
         "Chuyên viên nhân sự",
         "mobiphone",
         "Divorced"
        ],
        [
         "1617",
         "17191",
         null,
         "F",
         "******0450",
         "Luật sư",
         "viettel",
         "ly hôn"
        ],
        [
         "1647",
         "353112",
         null,
         "girl",
         "******6688",
         "Nhân viên hành chính",
         "other",
         "ly hôn"
        ],
        [
         "1657",
         "138738",
         null,
         "she",
         "*****6783",
         "Project Manager",
         "other",
         "Married"
        ],
        [
         "1675",
         "360250",
         null,
         "F",
         "*******5341",
         "Kỹ sư sản xuất",
         "vietnamobile",
         "ly hôn"
        ],
        [
         "1767",
         "70237",
         null,
         "male",
         "*****8708",
         "Quản lý sản xuất",
         "vietnamobile",
         "ly hôn"
        ]
       ],
       "shape": {
        "columns": 7,
        "rows": 95746
       }
      },
      "text/html": [
       "<div>\n",
       "<style scoped>\n",
       "    .dataframe tbody tr th:only-of-type {\n",
       "        vertical-align: middle;\n",
       "    }\n",
       "\n",
       "    .dataframe tbody tr th {\n",
       "        vertical-align: top;\n",
       "    }\n",
       "\n",
       "    .dataframe thead th {\n",
       "        text-align: right;\n",
       "    }\n",
       "</style>\n",
       "<table border=\"1\" class=\"dataframe\">\n",
       "  <thead>\n",
       "    <tr style=\"text-align: right;\">\n",
       "      <th></th>\n",
       "      <th>user_id</th>\n",
       "      <th>age</th>\n",
       "      <th>sex</th>\n",
       "      <th>phone</th>\n",
       "      <th>job</th>\n",
       "      <th>carrier</th>\n",
       "      <th>marital_status</th>\n",
       "    </tr>\n",
       "  </thead>\n",
       "  <tbody>\n",
       "    <tr>\n",
       "      <th>28</th>\n",
       "      <td>171799</td>\n",
       "      <td>NaN</td>\n",
       "      <td>men</td>\n",
       "      <td>******0902</td>\n",
       "      <td>NaN</td>\n",
       "      <td>vietnamobile</td>\n",
       "      <td>ly hôn</td>\n",
       "    </tr>\n",
       "    <tr>\n",
       "      <th>103</th>\n",
       "      <td>32350</td>\n",
       "      <td>NaN</td>\n",
       "      <td>male</td>\n",
       "      <td>******1341</td>\n",
       "      <td>Y tá</td>\n",
       "      <td>vietnamobile</td>\n",
       "      <td>Divorced</td>\n",
       "    </tr>\n",
       "    <tr>\n",
       "      <th>132</th>\n",
       "      <td>210917</td>\n",
       "      <td>NaN</td>\n",
       "      <td>male</td>\n",
       "      <td>*****4773</td>\n",
       "      <td>Nhân viên lễ tân</td>\n",
       "      <td>mobiphone</td>\n",
       "      <td>ly hôn</td>\n",
       "    </tr>\n",
       "    <tr>\n",
       "      <th>144</th>\n",
       "      <td>38665</td>\n",
       "      <td>NaN</td>\n",
       "      <td>men</td>\n",
       "      <td>*****7182</td>\n",
       "      <td>Luật sư</td>\n",
       "      <td>vietnamobile</td>\n",
       "      <td>Married</td>\n",
       "    </tr>\n",
       "    <tr>\n",
       "      <th>146</th>\n",
       "      <td>115159</td>\n",
       "      <td>NaN</td>\n",
       "      <td>gentle</td>\n",
       "      <td>******2492</td>\n",
       "      <td>Chuyên viên bảo mật</td>\n",
       "      <td>mobiphone</td>\n",
       "      <td>Married</td>\n",
       "    </tr>\n",
       "    <tr>\n",
       "      <th>...</th>\n",
       "      <td>...</td>\n",
       "      <td>...</td>\n",
       "      <td>...</td>\n",
       "      <td>...</td>\n",
       "      <td>...</td>\n",
       "      <td>...</td>\n",
       "      <td>...</td>\n",
       "    </tr>\n",
       "    <tr>\n",
       "      <th>424160</th>\n",
       "      <td>97195</td>\n",
       "      <td>NaN</td>\n",
       "      <td>NaN</td>\n",
       "      <td>*****8530</td>\n",
       "      <td>Nhân viên ngân hàng</td>\n",
       "      <td>mobiphone</td>\n",
       "      <td>ly hôn</td>\n",
       "    </tr>\n",
       "    <tr>\n",
       "      <th>424162</th>\n",
       "      <td>156155</td>\n",
       "      <td>NaN</td>\n",
       "      <td>men</td>\n",
       "      <td>*******5301</td>\n",
       "      <td>NaN</td>\n",
       "      <td>viettel</td>\n",
       "      <td>ly hôn</td>\n",
       "    </tr>\n",
       "    <tr>\n",
       "      <th>424164</th>\n",
       "      <td>297789</td>\n",
       "      <td>NaN</td>\n",
       "      <td>men</td>\n",
       "      <td>*******0442</td>\n",
       "      <td>Biên dịch viên</td>\n",
       "      <td>viettel</td>\n",
       "      <td>Divorced</td>\n",
       "    </tr>\n",
       "    <tr>\n",
       "      <th>424166</th>\n",
       "      <td>245950</td>\n",
       "      <td>NaN</td>\n",
       "      <td>male</td>\n",
       "      <td>*****3449</td>\n",
       "      <td>Tư vấn khách hàng</td>\n",
       "      <td>other</td>\n",
       "      <td>Divorced</td>\n",
       "    </tr>\n",
       "    <tr>\n",
       "      <th>424167</th>\n",
       "      <td>208016</td>\n",
       "      <td>NaN</td>\n",
       "      <td>unknown</td>\n",
       "      <td>******7187</td>\n",
       "      <td>Trưởng phòng kinh doanh</td>\n",
       "      <td>viettel</td>\n",
       "      <td>Married</td>\n",
       "    </tr>\n",
       "  </tbody>\n",
       "</table>\n",
       "<p>95746 rows × 7 columns</p>\n",
       "</div>"
      ],
      "text/plain": [
       "        user_id  age      sex        phone                      job  \\\n",
       "28       171799  NaN      men   ******0902                      NaN   \n",
       "103       32350  NaN     male   ******1341                     Y tá   \n",
       "132      210917  NaN     male    *****4773         Nhân viên lễ tân   \n",
       "144       38665  NaN      men    *****7182                  Luật sư   \n",
       "146      115159  NaN   gentle   ******2492      Chuyên viên bảo mật   \n",
       "...         ...  ...      ...          ...                      ...   \n",
       "424160    97195  NaN      NaN    *****8530      Nhân viên ngân hàng   \n",
       "424162   156155  NaN      men  *******5301                      NaN   \n",
       "424164   297789  NaN      men  *******0442           Biên dịch viên   \n",
       "424166   245950  NaN     male    *****3449        Tư vấn khách hàng   \n",
       "424167   208016  NaN  unknown   ******7187  Trưởng phòng kinh doanh   \n",
       "\n",
       "             carrier marital_status  \n",
       "28      vietnamobile         ly hôn  \n",
       "103     vietnamobile       Divorced  \n",
       "132        mobiphone         ly hôn  \n",
       "144     vietnamobile        Married  \n",
       "146        mobiphone        Married  \n",
       "...              ...            ...  \n",
       "424160     mobiphone         ly hôn  \n",
       "424162       viettel         ly hôn  \n",
       "424164       viettel       Divorced  \n",
       "424166         other       Divorced  \n",
       "424167       viettel        Married  \n",
       "\n",
       "[95746 rows x 7 columns]"
      ]
     },
     "execution_count": 236,
     "metadata": {},
     "output_type": "execute_result"
    }
   ],
   "source": [
    "# Validate that age is an integer greater than 0\n",
    "user_info[(user_info['age'] < 0) | (user_info['age'] % 1 != 0)]"
   ]
  },
  {
   "cell_type": "code",
   "execution_count": 237,
   "id": "eccce553",
   "metadata": {},
   "outputs": [],
   "source": [
    "# Replace age is not an integer greater than 0 with NaN\n",
    "user_info.loc[(user_info['age'] < 0) | (user_info['age'] % 1 != 0), 'age'] = np.nan"
   ]
  },
  {
   "cell_type": "markdown",
   "id": "70e854bf",
   "metadata": {},
   "source": [
    "## **Preprocessing `sex` column**"
   ]
  },
  {
   "cell_type": "code",
   "execution_count": 238,
   "id": "c98d3039",
   "metadata": {},
   "outputs": [],
   "source": [
    "def normalize_unicode(text):\n",
    "    if pd.isna(text):\n",
    "        return text\n",
    "    text = unicodedata.normalize('NFKC', str(text))\n",
    "    text = unidecode(text)\n",
    "    return text.lower().strip()\n",
    "\n",
    "def sex_mapping(value):\n",
    "    if pd.isna(value):\n",
    "        return np.nan\n",
    "    female_keywords = {'gentle', 'lady', 'she', 'female', 'girl', 'woman', 'f'}\n",
    "    male_keywords = {'male', 'm', 'boy', 'he', 'men'}\n",
    "    unknown_keywords = {'unknown', 'other', 'snknown', 'nsll'}\n",
    "    if value in female_keywords:\n",
    "        return 'female'\n",
    "    elif value in male_keywords:\n",
    "        return 'male'\n",
    "    elif value in unknown_keywords:\n",
    "        return np.nan"
   ]
  },
  {
   "cell_type": "code",
   "execution_count": 239,
   "id": "6a2739b8",
   "metadata": {},
   "outputs": [
    {
     "data": {
      "text/plain": [
       "array(['gentle', 'lady', 'she', 'female', 'girl', 'male', 'M', nan, 'boy',\n",
       "       'woman', 'F', 'he', 'men', 'unknown', 'other', 'mаle', 'mеn', 'hе',\n",
       "       'malе', 'lаdy', 'wοman', 'fеmale', 'femаle', 'bοy', 'shе', 'gіrl',\n",
       "       'womаn', 'gеntle', 'սnknown', 'femalе', 'gentlе', 'othеr', 'οther',\n",
       "       'unknοwn', 'nսll', 'femаlе', 'fеmalе', 'wοmаn', 'mаlе', 'fеmаle',\n",
       "       'gеntlе'], dtype=object)"
      ]
     },
     "execution_count": 239,
     "metadata": {},
     "output_type": "execute_result"
    }
   ],
   "source": [
    "user_info['sex'].unique()"
   ]
  },
  {
   "cell_type": "code",
   "execution_count": 240,
   "id": "082b368f",
   "metadata": {},
   "outputs": [
    {
     "data": {
      "text/plain": [
       "array(['gentle', 'lady', 'she', 'female', 'girl', 'male', 'm', nan, 'boy',\n",
       "       'woman', 'f', 'he', 'men', 'unknown', 'other', 'snknown', 'nsll'],\n",
       "      dtype=object)"
      ]
     },
     "execution_count": 240,
     "metadata": {},
     "output_type": "execute_result"
    }
   ],
   "source": [
    "user_info['sex'] = user_info['sex'].apply(normalize_unicode)\n",
    "user_info['sex'].unique()"
   ]
  },
  {
   "cell_type": "code",
   "execution_count": 241,
   "id": "4f2aa051",
   "metadata": {},
   "outputs": [
    {
     "data": {
      "text/plain": [
       "array(['female', 'male', nan], dtype=object)"
      ]
     },
     "execution_count": 241,
     "metadata": {},
     "output_type": "execute_result"
    }
   ],
   "source": [
    "user_info['sex'] = user_info['sex'].apply(sex_mapping)\n",
    "user_info['sex'].unique()"
   ]
  },
  {
   "cell_type": "markdown",
   "id": "31fb8707",
   "metadata": {},
   "source": [
    "## **Preprocessing `phone` column**"
   ]
  },
  {
   "cell_type": "code",
   "execution_count": 242,
   "id": "93cc7c6d",
   "metadata": {},
   "outputs": [],
   "source": [
    "# Replace missing values in 'phone' with the nan\n",
    "user_info['phone'] = user_info['phone'].fillna(np.nan)"
   ]
  },
  {
   "cell_type": "markdown",
   "id": "06250365",
   "metadata": {},
   "source": [
    "## **Preprocessing `job` column**"
   ]
  },
  {
   "cell_type": "code",
   "execution_count": 243,
   "id": "4bf99719",
   "metadata": {},
   "outputs": [
    {
     "data": {
      "text/plain": [
       "array(['Thực tập sinh giáo dục', nan, 'DevOps Engineer',\n",
       "       'Kiến trúc sư phần mềm', 'UX/UI Designer',\n",
       "       'Trưởng phòng kinh doanh', 'Lập trình viên',\n",
       "       'Nhà phân tích dữ liệu', 'Y tá', 'Quản lý sản xuất',\n",
       "       'Kỹ sư giám sát', 'Digital Marketer', 'Nghệ sĩ', 'Thực Tập',\n",
       "       'Điều Dưỡng', 'Kiến trúc sư', 'Nông dân', 'Chuyên viên nhân sự',\n",
       "       'Nhân viên kinh doanh', 'Nhân viên hành chính', 'Nhà báo',\n",
       "       'Nhân viên nhà hàng', 'Bác sĩ', 'Chuyên viên tư vấn tuyển sinh',\n",
       "       'Kỹ sư nông nghiệp', 'Thợ xây', 'Giảng viên',\n",
       "       'Chuyên viên bảo mật', 'Kỹ sư xây dựng', 'Kỹ sư phần mềm',\n",
       "       'Nhà thiết kế đồ họa', 'Project Manager', 'Nhà tư vấn tài chính',\n",
       "       'Nhân viên khách sạn', 'Kiểm toán', 'Thư ký pháp lý',\n",
       "       'Công nhân sản xuất', 'Nhân viên lễ tân', 'Chuyên viên tín dụng',\n",
       "       'Giáo viên', 'Sales Representative', 'Tester', 'Kỹ sư sản xuất',\n",
       "       'Biên dịch viên', 'Luật sư', 'Chuyên viên bán hàng trực tuyến',\n",
       "       'Chuyên viên phân tích thị trường', 'Nhân Viên Bán Hàng',\n",
       "       'Nhân viên ngân hàng', 'Giám đốc kinh doanh', 'Dược sĩ', 'Kế toán',\n",
       "       'Tư vấn khách hàng', 'Marketing Manager'], dtype=object)"
      ]
     },
     "execution_count": 243,
     "metadata": {},
     "output_type": "execute_result"
    }
   ],
   "source": [
    "user_info['job'].unique()"
   ]
  },
  {
   "cell_type": "code",
   "execution_count": 244,
   "id": "26f6bce0",
   "metadata": {},
   "outputs": [
    {
     "data": {
      "text/plain": [
       "array(['thuc tap sinh giao duc', nan, 'devops engineer',\n",
       "       'kien truc su phan mem', 'ux/ui designer',\n",
       "       'truong phong kinh doanh', 'lap trinh vien',\n",
       "       'nha phan tich du lieu', 'y ta', 'quan ly san xuat',\n",
       "       'ky su giam sat', 'digital marketer', 'nghe si', 'thuc tap',\n",
       "       'dieu duong', 'kien truc su', 'nong dan', 'chuyen vien nhan su',\n",
       "       'nhan vien kinh doanh', 'nhan vien hanh chinh', 'nha bao',\n",
       "       'nhan vien nha hang', 'bac si', 'chuyen vien tu van tuyen sinh',\n",
       "       'ky su nong nghiep', 'tho xay', 'giang vien',\n",
       "       'chuyen vien bao mat', 'ky su xay dung', 'ky su phan mem',\n",
       "       'nha thiet ke do hoa', 'project manager', 'nha tu van tai chinh',\n",
       "       'nhan vien khach san', 'kiem toan', 'thu ky phap ly',\n",
       "       'cong nhan san xuat', 'nhan vien le tan', 'chuyen vien tin dung',\n",
       "       'giao vien', 'sales representative', 'tester', 'ky su san xuat',\n",
       "       'bien dich vien', 'luat su', 'chuyen vien ban hang truc tuyen',\n",
       "       'chuyen vien phan tich thi truong', 'nhan vien ban hang',\n",
       "       'nhan vien ngan hang', 'giam doc kinh doanh', 'duoc si', 'ke toan',\n",
       "       'tu van khach hang', 'marketing manager'], dtype=object)"
      ]
     },
     "execution_count": 244,
     "metadata": {},
     "output_type": "execute_result"
    }
   ],
   "source": [
    "user_info['job'] = user_info['job'].apply(normalize_unicode)\n",
    "user_info['job'].unique()"
   ]
  },
  {
   "cell_type": "markdown",
   "id": "97c2ec01",
   "metadata": {},
   "source": [
    "## **Preprocessing `carrier` column**"
   ]
  },
  {
   "cell_type": "code",
   "execution_count": 245,
   "id": "24aaeeab",
   "metadata": {},
   "outputs": [
    {
     "data": {
      "text/plain": [
       "array(['other', 'vietnamobile', 'viettel', 'vinaphone', 'mobiphone', nan],\n",
       "      dtype=object)"
      ]
     },
     "execution_count": 245,
     "metadata": {},
     "output_type": "execute_result"
    }
   ],
   "source": [
    "user_info['carrier'].unique()"
   ]
  },
  {
   "cell_type": "code",
   "execution_count": 246,
   "id": "a48eeea7",
   "metadata": {},
   "outputs": [],
   "source": [
    "user_info['carrier'] = user_info['carrier'].fillna(np.nan)"
   ]
  },
  {
   "cell_type": "markdown",
   "id": "43d9807b",
   "metadata": {},
   "source": [
    "## **Preprocessing `marital_status` column**"
   ]
  },
  {
   "cell_type": "code",
   "execution_count": 247,
   "id": "dc2fcc97",
   "metadata": {},
   "outputs": [],
   "source": [
    "def marital_status_mapping(value):\n",
    "    if pd.isna(value):\n",
    "        return np.nan\n",
    "    married_keywords = ['Married', 'cưới']\n",
    "    single_keywords = ['Unmarried', 'Single', 'độc thân']\n",
    "    divorced_keywords = ['Divorced', 'ly hôn']\n",
    "    if value in married_keywords:\n",
    "        return 'married'\n",
    "    elif value in single_keywords:\n",
    "        return 'single'\n",
    "    elif value in divorced_keywords:\n",
    "        return 'divorced'"
   ]
  },
  {
   "cell_type": "code",
   "execution_count": 248,
   "id": "d2deb81c",
   "metadata": {},
   "outputs": [
    {
     "data": {
      "text/plain": [
       "array(['Married', 'cưới', 'Single', 'ly hôn', 'Divorced', nan,\n",
       "       'Unmarried', 'độc thân'], dtype=object)"
      ]
     },
     "execution_count": 248,
     "metadata": {},
     "output_type": "execute_result"
    }
   ],
   "source": [
    "user_info['marital_status'].unique()"
   ]
  },
  {
   "cell_type": "code",
   "execution_count": 249,
   "id": "346790d8",
   "metadata": {},
   "outputs": [
    {
     "data": {
      "text/plain": [
       "array(['married', 'single', 'divorced', nan], dtype=object)"
      ]
     },
     "execution_count": 249,
     "metadata": {},
     "output_type": "execute_result"
    }
   ],
   "source": [
    "user_info['marital_status'] = user_info['marital_status'].apply(marital_status_mapping)\n",
    "user_info['marital_status'].unique()"
   ]
  },
  {
   "cell_type": "code",
   "execution_count": 250,
   "id": "e826c15a",
   "metadata": {},
   "outputs": [
    {
     "data": {
      "application/vnd.microsoft.datawrangler.viewer.v0+json": {
       "columns": [
        {
         "name": "index",
         "rawType": "int64",
         "type": "integer"
        },
        {
         "name": "user_id",
         "rawType": "int64",
         "type": "integer"
        },
        {
         "name": "age",
         "rawType": "float64",
         "type": "float"
        },
        {
         "name": "sex",
         "rawType": "object",
         "type": "unknown"
        },
        {
         "name": "phone",
         "rawType": "object",
         "type": "unknown"
        },
        {
         "name": "job",
         "rawType": "object",
         "type": "unknown"
        },
        {
         "name": "carrier",
         "rawType": "object",
         "type": "unknown"
        },
        {
         "name": "marital_status",
         "rawType": "object",
         "type": "unknown"
        }
       ],
       "ref": "501a832e-6952-4bb4-a137-271b33dc4532",
       "rows": [
        [
         "0",
         "376517",
         "44.0",
         "female",
         "******6654",
         "thuc tap sinh giao duc",
         "other",
         "married"
        ],
        [
         "1",
         "234512",
         "39.0",
         "female",
         null,
         null,
         "vietnamobile",
         "married"
        ],
        [
         "2",
         "344532",
         "39.0",
         "female",
         "******6296",
         "devops engineer",
         "other",
         "married"
        ],
        [
         "3",
         "186135",
         "37.0",
         "female",
         "******1502",
         "thuc tap sinh giao duc",
         "vietnamobile",
         "married"
        ],
        [
         "4",
         "30230",
         "38.0",
         "female",
         "******4966",
         "devops engineer",
         "viettel",
         "married"
        ],
        [
         "5",
         "272389",
         "43.0",
         "female",
         "*******8689",
         "kien truc su phan mem",
         "vinaphone",
         "married"
        ],
        [
         "6",
         "281071",
         "32.0",
         "female",
         "*****2059",
         "ux/ui designer",
         "vietnamobile",
         "married"
        ],
        [
         "7",
         "139859",
         "59.0",
         "female",
         "******3421",
         "truong phong kinh doanh",
         "mobiphone",
         "married"
        ],
        [
         "8",
         "198411",
         "36.0",
         "male",
         "******8993",
         "lap trinh vien",
         "vinaphone",
         "single"
        ],
        [
         "9",
         "67037",
         "30.0",
         "male",
         "******5265",
         "nha phan tich du lieu",
         null,
         "single"
        ],
        [
         "10",
         "149002",
         "35.0",
         null,
         "*******6135",
         "y ta",
         "other",
         "single"
        ],
        [
         "11",
         "7468",
         "34.0",
         "female",
         "*****7434",
         "devops engineer",
         null,
         "married"
        ],
        [
         "12",
         "94292",
         "31.0",
         "female",
         "******8525",
         "quan ly san xuat",
         "other",
         "single"
        ],
        [
         "13",
         "347414",
         "40.0",
         "male",
         "*****4048",
         "thuc tap sinh giao duc",
         null,
         "married"
        ],
        [
         "14",
         "191719",
         "33.0",
         "female",
         "*****7023",
         "ky su giam sat",
         "vietnamobile",
         "married"
        ],
        [
         "15",
         "391524",
         "39.0",
         "male",
         "******7431",
         "digital marketer",
         "mobiphone",
         "married"
        ],
        [
         "16",
         "153790",
         "49.0",
         "female",
         "*****0999",
         "nghe si",
         "other",
         "married"
        ],
        [
         "17",
         "349112",
         "27.0",
         "male",
         "******8095",
         "thuc tap",
         "viettel",
         "married"
        ],
        [
         "18",
         "344766",
         "49.0",
         "female",
         "******9620",
         "dieu duong",
         "vietnamobile",
         "married"
        ],
        [
         "19",
         "81816",
         "39.0",
         "female",
         "*******4154",
         "kien truc su",
         "vietnamobile",
         "married"
        ],
        [
         "20",
         "307304",
         "37.0",
         "female",
         "******8340",
         "quan ly san xuat",
         "vinaphone",
         "married"
        ],
        [
         "21",
         "78617",
         "31.0",
         "female",
         "*****1962",
         "nong dan",
         "viettel",
         "single"
        ],
        [
         "22",
         "234232",
         "38.0",
         "female",
         "*****7362",
         "chuyen vien nhan su",
         null,
         "single"
        ],
        [
         "23",
         "57005",
         "32.0",
         "male",
         "*******8291",
         "nhan vien kinh doanh",
         "vietnamobile",
         "married"
        ],
        [
         "24",
         "284893",
         "43.0",
         "male",
         "*******9336",
         "nhan vien hanh chinh",
         null,
         "single"
        ],
        [
         "25",
         "366342",
         "32.0",
         "female",
         "******3493",
         "nhan vien hanh chinh",
         "viettel",
         "married"
        ],
        [
         "26",
         "256174",
         "31.0",
         "male",
         "*******9148",
         "digital marketer",
         "viettel",
         "married"
        ],
        [
         "27",
         "208701",
         "38.0",
         "female",
         "*****7341",
         "nha bao",
         "vietnamobile",
         "married"
        ],
        [
         "28",
         "171799",
         null,
         "male",
         "******0902",
         null,
         "vietnamobile",
         "divorced"
        ],
        [
         "29",
         "288275",
         "38.0",
         "female",
         "******8108",
         "nhan vien nha hang",
         "mobiphone",
         "single"
        ],
        [
         "30",
         "100091",
         "32.0",
         "female",
         "*******0880",
         "bac si",
         "viettel",
         "married"
        ],
        [
         "31",
         "280782",
         "47.0",
         "female",
         "******6788",
         "chuyen vien tu van tuyen sinh",
         "viettel",
         "married"
        ],
        [
         "32",
         "77031",
         "38.0",
         "female",
         "*****2700",
         "ky su nong nghiep",
         "mobiphone",
         "married"
        ],
        [
         "33",
         "422265",
         "31.0",
         "female",
         "*******3830",
         "tho xay",
         "vietnamobile",
         "single"
        ],
        [
         "34",
         "184971",
         "32.0",
         "female",
         "******9042",
         "giang vien",
         "viettel",
         "married"
        ],
        [
         "35",
         "240148",
         "37.0",
         "female",
         "*******7821",
         "chuyen vien bao mat",
         null,
         "single"
        ],
        [
         "36",
         "389154",
         "31.0",
         "female",
         "******4429",
         "ky su xay dung",
         "other",
         "single"
        ],
        [
         "37",
         "14831",
         "38.0",
         "male",
         "*****6809",
         "chuyen vien bao mat",
         "other",
         "single"
        ],
        [
         "38",
         "19637",
         "33.0",
         "female",
         "*****0462",
         "ky su phan mem",
         "mobiphone",
         "single"
        ],
        [
         "39",
         "282200",
         "41.0",
         "female",
         "*****3392",
         "nha thiet ke do hoa",
         "other",
         "married"
        ],
        [
         "40",
         "214880",
         "37.0",
         "female",
         "*****1702",
         "truong phong kinh doanh",
         "other",
         "single"
        ],
        [
         "41",
         "123576",
         "57.0",
         "female",
         "*****3313",
         "project manager",
         "mobiphone",
         "single"
        ],
        [
         "42",
         "116591",
         "32.0",
         null,
         "*******3624",
         "nha tu van tai chinh",
         "viettel",
         "married"
        ],
        [
         "43",
         "242442",
         "37.0",
         "female",
         "*****9755",
         "nhan vien khach san",
         "vietnamobile",
         "married"
        ],
        [
         "44",
         "317850",
         "46.0",
         "male",
         "*******5725",
         "nhan vien hanh chinh",
         "vietnamobile",
         "married"
        ],
        [
         "45",
         "329529",
         "30.0",
         "female",
         "*******7948",
         "nhan vien kinh doanh",
         "vinaphone",
         "single"
        ],
        [
         "46",
         "124798",
         "42.0",
         "male",
         null,
         "nhan vien nha hang",
         "other",
         "married"
        ],
        [
         "47",
         "182794",
         "49.0",
         null,
         "*****0374",
         "kiem toan",
         "other",
         "single"
        ],
        [
         "48",
         "233423",
         "32.0",
         "female",
         "*****3269",
         "lap trinh vien",
         "vinaphone",
         "married"
        ],
        [
         "49",
         "177722",
         "33.0",
         "male",
         "******7450",
         "nhan vien kinh doanh",
         "viettel",
         "married"
        ]
       ],
       "shape": {
        "columns": 7,
        "rows": 424170
       }
      },
      "text/html": [
       "<div>\n",
       "<style scoped>\n",
       "    .dataframe tbody tr th:only-of-type {\n",
       "        vertical-align: middle;\n",
       "    }\n",
       "\n",
       "    .dataframe tbody tr th {\n",
       "        vertical-align: top;\n",
       "    }\n",
       "\n",
       "    .dataframe thead th {\n",
       "        text-align: right;\n",
       "    }\n",
       "</style>\n",
       "<table border=\"1\" class=\"dataframe\">\n",
       "  <thead>\n",
       "    <tr style=\"text-align: right;\">\n",
       "      <th></th>\n",
       "      <th>user_id</th>\n",
       "      <th>age</th>\n",
       "      <th>sex</th>\n",
       "      <th>phone</th>\n",
       "      <th>job</th>\n",
       "      <th>carrier</th>\n",
       "      <th>marital_status</th>\n",
       "    </tr>\n",
       "  </thead>\n",
       "  <tbody>\n",
       "    <tr>\n",
       "      <th>0</th>\n",
       "      <td>376517</td>\n",
       "      <td>44.0</td>\n",
       "      <td>female</td>\n",
       "      <td>******6654</td>\n",
       "      <td>thuc tap sinh giao duc</td>\n",
       "      <td>other</td>\n",
       "      <td>married</td>\n",
       "    </tr>\n",
       "    <tr>\n",
       "      <th>1</th>\n",
       "      <td>234512</td>\n",
       "      <td>39.0</td>\n",
       "      <td>female</td>\n",
       "      <td>NaN</td>\n",
       "      <td>NaN</td>\n",
       "      <td>vietnamobile</td>\n",
       "      <td>married</td>\n",
       "    </tr>\n",
       "    <tr>\n",
       "      <th>2</th>\n",
       "      <td>344532</td>\n",
       "      <td>39.0</td>\n",
       "      <td>female</td>\n",
       "      <td>******6296</td>\n",
       "      <td>devops engineer</td>\n",
       "      <td>other</td>\n",
       "      <td>married</td>\n",
       "    </tr>\n",
       "    <tr>\n",
       "      <th>3</th>\n",
       "      <td>186135</td>\n",
       "      <td>37.0</td>\n",
       "      <td>female</td>\n",
       "      <td>******1502</td>\n",
       "      <td>thuc tap sinh giao duc</td>\n",
       "      <td>vietnamobile</td>\n",
       "      <td>married</td>\n",
       "    </tr>\n",
       "    <tr>\n",
       "      <th>4</th>\n",
       "      <td>30230</td>\n",
       "      <td>38.0</td>\n",
       "      <td>female</td>\n",
       "      <td>******4966</td>\n",
       "      <td>devops engineer</td>\n",
       "      <td>viettel</td>\n",
       "      <td>married</td>\n",
       "    </tr>\n",
       "    <tr>\n",
       "      <th>...</th>\n",
       "      <td>...</td>\n",
       "      <td>...</td>\n",
       "      <td>...</td>\n",
       "      <td>...</td>\n",
       "      <td>...</td>\n",
       "      <td>...</td>\n",
       "      <td>...</td>\n",
       "    </tr>\n",
       "    <tr>\n",
       "      <th>424165</th>\n",
       "      <td>395814</td>\n",
       "      <td>26.0</td>\n",
       "      <td>female</td>\n",
       "      <td>******8563</td>\n",
       "      <td>kien truc su phan mem</td>\n",
       "      <td>vinaphone</td>\n",
       "      <td>married</td>\n",
       "    </tr>\n",
       "    <tr>\n",
       "      <th>424166</th>\n",
       "      <td>245950</td>\n",
       "      <td>NaN</td>\n",
       "      <td>male</td>\n",
       "      <td>*****3449</td>\n",
       "      <td>tu van khach hang</td>\n",
       "      <td>other</td>\n",
       "      <td>divorced</td>\n",
       "    </tr>\n",
       "    <tr>\n",
       "      <th>424167</th>\n",
       "      <td>208016</td>\n",
       "      <td>NaN</td>\n",
       "      <td>NaN</td>\n",
       "      <td>******7187</td>\n",
       "      <td>truong phong kinh doanh</td>\n",
       "      <td>viettel</td>\n",
       "      <td>married</td>\n",
       "    </tr>\n",
       "    <tr>\n",
       "      <th>424168</th>\n",
       "      <td>272535</td>\n",
       "      <td>45.0</td>\n",
       "      <td>male</td>\n",
       "      <td>*******0404</td>\n",
       "      <td>duoc si</td>\n",
       "      <td>vinaphone</td>\n",
       "      <td>married</td>\n",
       "    </tr>\n",
       "    <tr>\n",
       "      <th>424169</th>\n",
       "      <td>18031</td>\n",
       "      <td>26.0</td>\n",
       "      <td>male</td>\n",
       "      <td>*****3660</td>\n",
       "      <td>duoc si</td>\n",
       "      <td>vinaphone</td>\n",
       "      <td>single</td>\n",
       "    </tr>\n",
       "  </tbody>\n",
       "</table>\n",
       "<p>424170 rows × 7 columns</p>\n",
       "</div>"
      ],
      "text/plain": [
       "        user_id   age     sex        phone                      job  \\\n",
       "0        376517  44.0  female   ******6654   thuc tap sinh giao duc   \n",
       "1        234512  39.0  female          NaN                      NaN   \n",
       "2        344532  39.0  female   ******6296          devops engineer   \n",
       "3        186135  37.0  female   ******1502   thuc tap sinh giao duc   \n",
       "4         30230  38.0  female   ******4966          devops engineer   \n",
       "...         ...   ...     ...          ...                      ...   \n",
       "424165   395814  26.0  female   ******8563    kien truc su phan mem   \n",
       "424166   245950   NaN    male    *****3449        tu van khach hang   \n",
       "424167   208016   NaN     NaN   ******7187  truong phong kinh doanh   \n",
       "424168   272535  45.0    male  *******0404                  duoc si   \n",
       "424169    18031  26.0    male    *****3660                  duoc si   \n",
       "\n",
       "             carrier marital_status  \n",
       "0              other        married  \n",
       "1       vietnamobile        married  \n",
       "2              other        married  \n",
       "3       vietnamobile        married  \n",
       "4            viettel        married  \n",
       "...              ...            ...  \n",
       "424165     vinaphone        married  \n",
       "424166         other       divorced  \n",
       "424167       viettel        married  \n",
       "424168     vinaphone        married  \n",
       "424169     vinaphone         single  \n",
       "\n",
       "[424170 rows x 7 columns]"
      ]
     },
     "execution_count": 250,
     "metadata": {},
     "output_type": "execute_result"
    }
   ],
   "source": [
    "user_info"
   ]
  },
  {
   "cell_type": "code",
   "execution_count": 251,
   "id": "23cfa6c4",
   "metadata": {},
   "outputs": [],
   "source": [
    "user_info.to_csv(r'cleaned_data/user_info.csv', index=False)"
   ]
  },
  {
   "cell_type": "code",
   "execution_count": null,
   "id": "65791c92",
   "metadata": {},
   "outputs": [],
   "source": []
  }
 ],
 "metadata": {
  "kernelspec": {
   "display_name": "Python 3",
   "language": "python",
   "name": "python3"
  },
  "language_info": {
   "codemirror_mode": {
    "name": "ipython",
    "version": 3
   },
   "file_extension": ".py",
   "mimetype": "text/x-python",
   "name": "python",
   "nbconvert_exporter": "python",
   "pygments_lexer": "ipython3",
   "version": "3.12.0"
  }
 },
 "nbformat": 4,
 "nbformat_minor": 5
}

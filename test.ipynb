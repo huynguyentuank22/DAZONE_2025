{
 "cells": [
  {
   "cell_type": "code",
   "execution_count": 1,
   "id": "4ff6b2ca",
   "metadata": {},
   "outputs": [],
   "source": [
    "import pandas as pd"
   ]
  },
  {
   "cell_type": "code",
   "execution_count": 2,
   "id": "12934b11",
   "metadata": {},
   "outputs": [
    {
     "data": {
      "application/vnd.microsoft.datawrangler.viewer.v0+json": {
       "columns": [
        {
         "name": "index",
         "rawType": "int64",
         "type": "integer"
        },
        {
         "name": "user_id",
         "rawType": "int64",
         "type": "integer"
        },
        {
         "name": "item_id",
         "rawType": "int64",
         "type": "integer"
        },
        {
         "name": "cat_id",
         "rawType": "int64",
         "type": "integer"
        },
        {
         "name": "brand_id",
         "rawType": "float64",
         "type": "float"
        },
        {
         "name": "merchant_id",
         "rawType": "int64",
         "type": "integer"
        },
        {
         "name": "action",
         "rawType": "object",
         "type": "string"
        },
        {
         "name": "datetime",
         "rawType": "object",
         "type": "string"
        }
       ],
       "ref": "42e90cd1-19c2-4ac6-88a9-fbc82e488ae9",
       "rows": [
        [
         "0",
         "328862",
         "323294",
         "833",
         "2661.0",
         "2882",
         "click",
         "2024-08-29"
        ],
        [
         "1",
         "328862",
         "844400",
         "1271",
         "2661.0",
         "2882",
         "click",
         "2024-08-29"
        ],
        [
         "2",
         "328862",
         "575153",
         "1271",
         "2661.0",
         "2882",
         "click",
         "2024-08-29"
        ],
        [
         "3",
         "328862",
         "996875",
         "1271",
         "2661.0",
         "2882",
         "click",
         "2024-08-29"
        ],
        [
         "4",
         "328862",
         "1086186",
         "1271",
         "1049.0",
         "1253",
         "click",
         "2024-08-29"
        ]
       ],
       "shape": {
        "columns": 7,
        "rows": 5
       }
      },
      "text/html": [
       "<div>\n",
       "<style scoped>\n",
       "    .dataframe tbody tr th:only-of-type {\n",
       "        vertical-align: middle;\n",
       "    }\n",
       "\n",
       "    .dataframe tbody tr th {\n",
       "        vertical-align: top;\n",
       "    }\n",
       "\n",
       "    .dataframe thead th {\n",
       "        text-align: right;\n",
       "    }\n",
       "</style>\n",
       "<table border=\"1\" class=\"dataframe\">\n",
       "  <thead>\n",
       "    <tr style=\"text-align: right;\">\n",
       "      <th></th>\n",
       "      <th>user_id</th>\n",
       "      <th>item_id</th>\n",
       "      <th>cat_id</th>\n",
       "      <th>brand_id</th>\n",
       "      <th>merchant_id</th>\n",
       "      <th>action</th>\n",
       "      <th>datetime</th>\n",
       "    </tr>\n",
       "  </thead>\n",
       "  <tbody>\n",
       "    <tr>\n",
       "      <th>0</th>\n",
       "      <td>328862</td>\n",
       "      <td>323294</td>\n",
       "      <td>833</td>\n",
       "      <td>2661.0</td>\n",
       "      <td>2882</td>\n",
       "      <td>click</td>\n",
       "      <td>2024-08-29</td>\n",
       "    </tr>\n",
       "    <tr>\n",
       "      <th>1</th>\n",
       "      <td>328862</td>\n",
       "      <td>844400</td>\n",
       "      <td>1271</td>\n",
       "      <td>2661.0</td>\n",
       "      <td>2882</td>\n",
       "      <td>click</td>\n",
       "      <td>2024-08-29</td>\n",
       "    </tr>\n",
       "    <tr>\n",
       "      <th>2</th>\n",
       "      <td>328862</td>\n",
       "      <td>575153</td>\n",
       "      <td>1271</td>\n",
       "      <td>2661.0</td>\n",
       "      <td>2882</td>\n",
       "      <td>click</td>\n",
       "      <td>2024-08-29</td>\n",
       "    </tr>\n",
       "    <tr>\n",
       "      <th>3</th>\n",
       "      <td>328862</td>\n",
       "      <td>996875</td>\n",
       "      <td>1271</td>\n",
       "      <td>2661.0</td>\n",
       "      <td>2882</td>\n",
       "      <td>click</td>\n",
       "      <td>2024-08-29</td>\n",
       "    </tr>\n",
       "    <tr>\n",
       "      <th>4</th>\n",
       "      <td>328862</td>\n",
       "      <td>1086186</td>\n",
       "      <td>1271</td>\n",
       "      <td>1049.0</td>\n",
       "      <td>1253</td>\n",
       "      <td>click</td>\n",
       "      <td>2024-08-29</td>\n",
       "    </tr>\n",
       "  </tbody>\n",
       "</table>\n",
       "</div>"
      ],
      "text/plain": [
       "   user_id  item_id  cat_id  brand_id  merchant_id action    datetime\n",
       "0   328862   323294     833    2661.0         2882  click  2024-08-29\n",
       "1   328862   844400    1271    2661.0         2882  click  2024-08-29\n",
       "2   328862   575153    1271    2661.0         2882  click  2024-08-29\n",
       "3   328862   996875    1271    2661.0         2882  click  2024-08-29\n",
       "4   328862  1086186    1271    1049.0         1253  click  2024-08-29"
      ]
     },
     "execution_count": 2,
     "metadata": {},
     "output_type": "execute_result"
    }
   ],
   "source": [
    "df = pd.read_csv('data/user_log.csv')\n",
    "df.head()"
   ]
  },
  {
   "cell_type": "code",
   "execution_count": 4,
   "id": "5b43391c",
   "metadata": {},
   "outputs": [
    {
     "data": {
      "application/vnd.microsoft.datawrangler.viewer.v0+json": {
       "columns": [
        {
         "name": "index",
         "rawType": "int64",
         "type": "integer"
        },
        {
         "name": "user_id",
         "rawType": "int64",
         "type": "integer"
        },
        {
         "name": "item_id",
         "rawType": "int64",
         "type": "integer"
        },
        {
         "name": "cat_id",
         "rawType": "int64",
         "type": "integer"
        },
        {
         "name": "brand_id",
         "rawType": "float64",
         "type": "float"
        },
        {
         "name": "merchant_id",
         "rawType": "int64",
         "type": "integer"
        },
        {
         "name": "action",
         "rawType": "object",
         "type": "string"
        },
        {
         "name": "datetime",
         "rawType": "object",
         "type": "string"
        }
       ],
       "ref": "8fd40b61-b9f5-4737-a8de-8ae457eb4c0d",
       "rows": [
        [
         "487",
         "356311",
         "518537",
         "1238",
         "3738.0",
         "3760",
         "click",
         "2024-09-17"
        ],
        [
         "609",
         "356311",
         "585057",
         "1577",
         "3738.0",
         "3760",
         "click",
         "2024-11-11"
        ],
        [
         "627",
         "356311",
         "518537",
         "1238",
         "3738.0",
         "3760",
         "click",
         "2024-09-09"
        ],
        [
         "883",
         "186568",
         "447180",
         "1142",
         "3738.0",
         "3760",
         "click",
         "2024-11-07"
        ],
        [
         "1079",
         "92396",
         "625839",
         "1577",
         "3738.0",
         "3760",
         "click",
         "2024-08-28"
        ]
       ],
       "shape": {
        "columns": 7,
        "rows": 5
       }
      },
      "text/html": [
       "<div>\n",
       "<style scoped>\n",
       "    .dataframe tbody tr th:only-of-type {\n",
       "        vertical-align: middle;\n",
       "    }\n",
       "\n",
       "    .dataframe tbody tr th {\n",
       "        vertical-align: top;\n",
       "    }\n",
       "\n",
       "    .dataframe thead th {\n",
       "        text-align: right;\n",
       "    }\n",
       "</style>\n",
       "<table border=\"1\" class=\"dataframe\">\n",
       "  <thead>\n",
       "    <tr style=\"text-align: right;\">\n",
       "      <th></th>\n",
       "      <th>user_id</th>\n",
       "      <th>item_id</th>\n",
       "      <th>cat_id</th>\n",
       "      <th>brand_id</th>\n",
       "      <th>merchant_id</th>\n",
       "      <th>action</th>\n",
       "      <th>datetime</th>\n",
       "    </tr>\n",
       "  </thead>\n",
       "  <tbody>\n",
       "    <tr>\n",
       "      <th>487</th>\n",
       "      <td>356311</td>\n",
       "      <td>518537</td>\n",
       "      <td>1238</td>\n",
       "      <td>3738.0</td>\n",
       "      <td>3760</td>\n",
       "      <td>click</td>\n",
       "      <td>2024-09-17</td>\n",
       "    </tr>\n",
       "    <tr>\n",
       "      <th>609</th>\n",
       "      <td>356311</td>\n",
       "      <td>585057</td>\n",
       "      <td>1577</td>\n",
       "      <td>3738.0</td>\n",
       "      <td>3760</td>\n",
       "      <td>click</td>\n",
       "      <td>2024-11-11</td>\n",
       "    </tr>\n",
       "    <tr>\n",
       "      <th>627</th>\n",
       "      <td>356311</td>\n",
       "      <td>518537</td>\n",
       "      <td>1238</td>\n",
       "      <td>3738.0</td>\n",
       "      <td>3760</td>\n",
       "      <td>click</td>\n",
       "      <td>2024-09-09</td>\n",
       "    </tr>\n",
       "    <tr>\n",
       "      <th>883</th>\n",
       "      <td>186568</td>\n",
       "      <td>447180</td>\n",
       "      <td>1142</td>\n",
       "      <td>3738.0</td>\n",
       "      <td>3760</td>\n",
       "      <td>click</td>\n",
       "      <td>2024-11-07</td>\n",
       "    </tr>\n",
       "    <tr>\n",
       "      <th>1079</th>\n",
       "      <td>92396</td>\n",
       "      <td>625839</td>\n",
       "      <td>1577</td>\n",
       "      <td>3738.0</td>\n",
       "      <td>3760</td>\n",
       "      <td>click</td>\n",
       "      <td>2024-08-28</td>\n",
       "    </tr>\n",
       "  </tbody>\n",
       "</table>\n",
       "</div>"
      ],
      "text/plain": [
       "      user_id  item_id  cat_id  brand_id  merchant_id action    datetime\n",
       "487    356311   518537    1238    3738.0         3760  click  2024-09-17\n",
       "609    356311   585057    1577    3738.0         3760  click  2024-11-11\n",
       "627    356311   518537    1238    3738.0         3760  click  2024-09-09\n",
       "883    186568   447180    1142    3738.0         3760  click  2024-11-07\n",
       "1079    92396   625839    1577    3738.0         3760  click  2024-08-28"
      ]
     },
     "execution_count": 4,
     "metadata": {},
     "output_type": "execute_result"
    }
   ],
   "source": [
    "df[df['brand_id'] == 3738].head()"
   ]
  },
  {
   "cell_type": "code",
   "execution_count": 5,
   "id": "a373d477",
   "metadata": {},
   "outputs": [
    {
     "data": {
      "text/plain": [
       "'2024-11-11'"
      ]
     },
     "execution_count": 5,
     "metadata": {},
     "output_type": "execute_result"
    }
   ],
   "source": [
    "# Find datetime have action 'purcharse' max\n",
    "df[df['action'] == 'purchase'].groupby('datetime')['action'].count().idxmax()"
   ]
  },
  {
   "cell_type": "code",
   "execution_count": 9,
   "id": "96f5d2f5",
   "metadata": {},
   "outputs": [
    {
     "name": "stdout",
     "output_type": "stream",
     "text": [
      "cat_id with maximum purchases: 1213\n",
      "Frequency of purchases: 95353\n"
     ]
    }
   ],
   "source": [
    "# Find cat_id have action 'purcharse' max and frequency\n",
    "purchase_counts = df[df['action'] == 'purchase'].groupby('cat_id')['action'].count()\n",
    "\n",
    "# Tìm cat_id có số lần purchase tối đa\n",
    "max_cat_id = purchase_counts.idxmax()\n",
    "\n",
    "# Tìm tần suất (frequency) của cat_id đó\n",
    "max_frequency = purchase_counts.max()\n",
    "\n",
    "print(f\"cat_id with maximum purchases: {max_cat_id}\")\n",
    "print(f\"Frequency of purchases: {max_frequency}\")"
   ]
  },
  {
   "cell_type": "code",
   "execution_count": 18,
   "id": "bdaf977c",
   "metadata": {},
   "outputs": [
    {
     "name": "stdout",
     "output_type": "stream",
     "text": [
      "[754044 670204 195714 ... 278505 482042 800348]\n",
      "7366\n"
     ]
    }
   ],
   "source": [
    "# Find all item in cat_id 1213\n",
    "filtered_df = df[(df['cat_id'] == 1213) & (df['action'] == 'purchase')]\n",
    "\n",
    "# Tìm các item_id duy nhất\n",
    "print(filtered_df['item_id'].unique())\n",
    "print(len(filtered_df['item_id'].unique()))"
   ]
  },
  {
   "cell_type": "code",
   "execution_count": 23,
   "id": "5b633991",
   "metadata": {},
   "outputs": [
    {
     "data": {
      "application/vnd.microsoft.datawrangler.viewer.v0+json": {
       "columns": [
        {
         "name": "user_id",
         "rawType": "int64",
         "type": "integer"
        },
        {
         "name": "action",
         "rawType": "int64",
         "type": "integer"
        }
       ],
       "ref": "293158b4-882f-4f0a-aa70-4190a1a977f5",
       "rows": [
        [
         "2",
         "1"
        ],
        [
         "5",
         "1"
        ],
        [
         "6",
         "2"
        ],
        [
         "14",
         "1"
        ],
        [
         "18",
         "1"
        ],
        [
         "19",
         "1"
        ],
        [
         "21",
         "3"
        ],
        [
         "22",
         "1"
        ],
        [
         "25",
         "1"
        ],
        [
         "44",
         "3"
        ],
        [
         "50",
         "1"
        ],
        [
         "57",
         "1"
        ],
        [
         "72",
         "1"
        ],
        [
         "79",
         "1"
        ],
        [
         "94",
         "2"
        ],
        [
         "129",
         "4"
        ],
        [
         "130",
         "1"
        ],
        [
         "132",
         "1"
        ],
        [
         "142",
         "2"
        ],
        [
         "144",
         "6"
        ],
        [
         "154",
         "1"
        ],
        [
         "157",
         "3"
        ],
        [
         "198",
         "1"
        ],
        [
         "199",
         "1"
        ],
        [
         "214",
         "1"
        ],
        [
         "232",
         "1"
        ],
        [
         "267",
         "1"
        ],
        [
         "276",
         "1"
        ],
        [
         "287",
         "1"
        ],
        [
         "292",
         "1"
        ],
        [
         "300",
         "1"
        ],
        [
         "305",
         "8"
        ],
        [
         "311",
         "1"
        ],
        [
         "338",
         "1"
        ],
        [
         "345",
         "7"
        ],
        [
         "351",
         "4"
        ],
        [
         "356",
         "1"
        ],
        [
         "375",
         "1"
        ],
        [
         "379",
         "3"
        ],
        [
         "393",
         "2"
        ],
        [
         "400",
         "1"
        ],
        [
         "423",
         "1"
        ],
        [
         "445",
         "3"
        ],
        [
         "447",
         "2"
        ],
        [
         "450",
         "2"
        ],
        [
         "470",
         "3"
        ],
        [
         "471",
         "8"
        ],
        [
         "474",
         "3"
        ],
        [
         "483",
         "1"
        ],
        [
         "502",
         "1"
        ]
       ],
       "shape": {
        "columns": 1,
        "rows": 42700
       }
      },
      "text/plain": [
       "user_id\n",
       "2         1\n",
       "5         1\n",
       "6         2\n",
       "14        1\n",
       "18        1\n",
       "         ..\n",
       "424140    7\n",
       "424147    6\n",
       "424160    4\n",
       "424161    1\n",
       "424163    2\n",
       "Name: action, Length: 42700, dtype: int64"
      ]
     },
     "execution_count": 23,
     "metadata": {},
     "output_type": "execute_result"
    }
   ],
   "source": [
    "# Top 10 age buy cat_id 1213\n",
    "age_counts = df[(df['cat_id'] == 1213) & (df['action'] == 'purchase')].groupby('user_id')['action'].count()\n",
    "age_counts"
   ]
  },
  {
   "cell_type": "code",
   "execution_count": 24,
   "id": "555b041f",
   "metadata": {},
   "outputs": [
    {
     "data": {
      "application/vnd.microsoft.datawrangler.viewer.v0+json": {
       "columns": [
        {
         "name": "datetime",
         "rawType": "object",
         "type": "string"
        },
        {
         "name": "action",
         "rawType": "int64",
         "type": "integer"
        }
       ],
       "ref": "36d9d910-3190-43fb-ab17-b9d94bc01dfa",
       "rows": [
        [
         "2024-11-11",
         "25851"
        ],
        [
         "2024-07-08",
         "1500"
        ],
        [
         "2024-06-26",
         "1276"
        ],
        [
         "2024-06-06",
         "770"
        ],
        [
         "2024-07-10",
         "719"
        ],
        [
         "2024-07-04",
         "711"
        ],
        [
         "2024-08-13",
         "695"
        ],
        [
         "2024-10-18",
         "690"
        ],
        [
         "2024-08-18",
         "659"
        ],
        [
         "2024-07-15",
         "654"
        ]
       ],
       "shape": {
        "columns": 1,
        "rows": 10
       }
      },
      "text/plain": [
       "datetime\n",
       "2024-11-11    25851\n",
       "2024-07-08     1500\n",
       "2024-06-26     1276\n",
       "2024-06-06      770\n",
       "2024-07-10      719\n",
       "2024-07-04      711\n",
       "2024-08-13      695\n",
       "2024-10-18      690\n",
       "2024-08-18      659\n",
       "2024-07-15      654\n",
       "Name: action, dtype: int64"
      ]
     },
     "execution_count": 24,
     "metadata": {},
     "output_type": "execute_result"
    }
   ],
   "source": [
    "# Top 10 datetime buy cat_id 1213\n",
    "datetime_counts = df[(df['cat_id'] == 1213) & (df['action'] == 'purchase')].groupby('datetime')['action'].count()\n",
    "datetime_counts = datetime_counts.sort_values(ascending=False).head(10)\n",
    "datetime_counts"
   ]
  },
  {
   "cell_type": "code",
   "execution_count": 31,
   "id": "85da5575",
   "metadata": {},
   "outputs": [
    {
     "data": {
      "application/vnd.microsoft.datawrangler.viewer.v0+json": {
       "columns": [
        {
         "name": "datetime",
         "rawType": "object",
         "type": "string"
        },
        {
         "name": "action",
         "rawType": "int64",
         "type": "integer"
        }
       ],
       "ref": "954dd5ad-84d5-40cd-84c1-3d1b88591666",
       "rows": [
        [
         "2024-11-11",
         "1223354"
        ],
        [
         "2024-09-09",
         "30908"
        ],
        [
         "2024-06-26",
         "26548"
        ],
        [
         "2024-06-17",
         "25801"
        ],
        [
         "2024-10-21",
         "20155"
        ],
        [
         "2024-09-25",
         "19067"
        ],
        [
         "2024-10-18",
         "18188"
        ],
        [
         "2024-10-16",
         "17770"
        ],
        [
         "2024-11-10",
         "17249"
        ],
        [
         "2024-10-28",
         "17082"
        ],
        [
         "2024-10-17",
         "17019"
        ],
        [
         "2024-10-25",
         "16910"
        ],
        [
         "2024-10-14",
         "16878"
        ],
        [
         "2024-10-30",
         "16794"
        ],
        [
         "2024-10-23",
         "16792"
        ],
        [
         "2024-08-28",
         "16738"
        ],
        [
         "2024-10-22",
         "16567"
        ],
        [
         "2024-10-24",
         "16005"
        ],
        [
         "2024-10-08",
         "15895"
        ],
        [
         "2024-10-09",
         "15795"
        ]
       ],
       "shape": {
        "columns": 1,
        "rows": 20
       }
      },
      "text/plain": [
       "datetime\n",
       "2024-11-11    1223354\n",
       "2024-09-09      30908\n",
       "2024-06-26      26548\n",
       "2024-06-17      25801\n",
       "2024-10-21      20155\n",
       "2024-09-25      19067\n",
       "2024-10-18      18188\n",
       "2024-10-16      17770\n",
       "2024-11-10      17249\n",
       "2024-10-28      17082\n",
       "2024-10-17      17019\n",
       "2024-10-25      16910\n",
       "2024-10-14      16878\n",
       "2024-10-30      16794\n",
       "2024-10-23      16792\n",
       "2024-08-28      16738\n",
       "2024-10-22      16567\n",
       "2024-10-24      16005\n",
       "2024-10-08      15895\n",
       "2024-10-09      15795\n",
       "Name: action, dtype: int64"
      ]
     },
     "execution_count": 31,
     "metadata": {},
     "output_type": "execute_result"
    }
   ],
   "source": [
    "# Top 10 datetime have action 'purchase'\n",
    "datetime_counts = df[df['action'] == 'purchase'].groupby('datetime')['action'].count()\n",
    "datetime_counts = datetime_counts.sort_values(ascending=False).head(20)\n",
    "datetime_counts"
   ]
  },
  {
   "cell_type": "code",
   "execution_count": 30,
   "id": "710d4ea4",
   "metadata": {},
   "outputs": [
    {
     "data": {
      "application/vnd.microsoft.datawrangler.viewer.v0+json": {
       "columns": [
        {
         "name": "datetime",
         "rawType": "object",
         "type": "string"
        },
        {
         "name": "action",
         "rawType": "int64",
         "type": "integer"
        }
       ],
       "ref": "c431b716-5dfa-4bf7-bcb1-d3afdec4a6f7",
       "rows": [
        [
         "2024-11-11",
         "9188104"
        ],
        [
         "2024-11-10",
         "2750192"
        ],
        [
         "2024-11-09",
         "1102507"
        ],
        [
         "2024-11-08",
         "879656"
        ],
        [
         "2024-11-07",
         "777904"
        ],
        [
         "2024-11-06",
         "739366"
        ],
        [
         "2024-11-05",
         "679086"
        ],
        [
         "2024-11-04",
         "645033"
        ],
        [
         "2024-11-03",
         "544734"
        ],
        [
         "2024-11-01",
         "518230"
        ],
        [
         "2024-11-02",
         "512494"
        ],
        [
         "2024-06-26",
         "506003"
        ],
        [
         "2024-10-31",
         "484100"
        ],
        [
         "2024-10-30",
         "477619"
        ],
        [
         "2024-10-28",
         "323357"
        ]
       ],
       "shape": {
        "columns": 1,
        "rows": 15
       }
      },
      "text/plain": [
       "datetime\n",
       "2024-11-11    9188104\n",
       "2024-11-10    2750192\n",
       "2024-11-09    1102507\n",
       "2024-11-08     879656\n",
       "2024-11-07     777904\n",
       "2024-11-06     739366\n",
       "2024-11-05     679086\n",
       "2024-11-04     645033\n",
       "2024-11-03     544734\n",
       "2024-11-01     518230\n",
       "2024-11-02     512494\n",
       "2024-06-26     506003\n",
       "2024-10-31     484100\n",
       "2024-10-30     477619\n",
       "2024-10-28     323357\n",
       "Name: action, dtype: int64"
      ]
     },
     "execution_count": 30,
     "metadata": {},
     "output_type": "execute_result"
    }
   ],
   "source": [
    "# Top 10 datetime have action 'click'\n",
    "datetime_counts = df[df['action'] == 'click'].groupby('datetime')['action'].count()\n",
    "datetime_counts = datetime_counts.sort_values(ascending=False).head(15)\n",
    "datetime_counts"
   ]
  },
  {
   "cell_type": "code",
   "execution_count": 32,
   "id": "973ab8f3",
   "metadata": {},
   "outputs": [
    {
     "data": {
      "application/vnd.microsoft.datawrangler.viewer.v0+json": {
       "columns": [
        {
         "name": "datetime",
         "rawType": "object",
         "type": "string"
        },
        {
         "name": "action",
         "rawType": "int64",
         "type": "integer"
        }
       ],
       "ref": "a8d488ba-b0d1-4a91-81fd-9f5b3be974f2",
       "rows": [
        [
         "2024-11-11",
         "14725"
        ],
        [
         "2024-11-10",
         "11711"
        ],
        [
         "2024-11-09",
         "4825"
        ],
        [
         "2024-11-08",
         "3452"
        ],
        [
         "2024-11-07",
         "3068"
        ],
        [
         "2024-11-06",
         "2974"
        ],
        [
         "2024-11-05",
         "2381"
        ],
        [
         "2024-11-04",
         "2184"
        ],
        [
         "2024-11-03",
         "2042"
        ],
        [
         "2024-11-02",
         "1817"
        ],
        [
         "2024-11-01",
         "1620"
        ],
        [
         "2024-10-31",
         "1477"
        ],
        [
         "2024-10-30",
         "1328"
        ],
        [
         "2024-10-29",
         "530"
        ],
        [
         "2024-10-28",
         "493"
        ],
        [
         "2024-10-27",
         "445"
        ],
        [
         "2024-10-24",
         "394"
        ],
        [
         "2024-10-21",
         "388"
        ],
        [
         "2024-10-25",
         "371"
        ],
        [
         "2024-10-23",
         "369"
        ]
       ],
       "shape": {
        "columns": 1,
        "rows": 20
       }
      },
      "text/plain": [
       "datetime\n",
       "2024-11-11    14725\n",
       "2024-11-10    11711\n",
       "2024-11-09     4825\n",
       "2024-11-08     3452\n",
       "2024-11-07     3068\n",
       "2024-11-06     2974\n",
       "2024-11-05     2381\n",
       "2024-11-04     2184\n",
       "2024-11-03     2042\n",
       "2024-11-02     1817\n",
       "2024-11-01     1620\n",
       "2024-10-31     1477\n",
       "2024-10-30     1328\n",
       "2024-10-29      530\n",
       "2024-10-28      493\n",
       "2024-10-27      445\n",
       "2024-10-24      394\n",
       "2024-10-21      388\n",
       "2024-10-25      371\n",
       "2024-10-23      369\n",
       "Name: action, dtype: int64"
      ]
     },
     "execution_count": 32,
     "metadata": {},
     "output_type": "execute_result"
    }
   ],
   "source": [
    "# Top 10 datetime have action 'add_to_cart'\n",
    "datetime_counts = df[df['action'] == 'add-to-cart'].groupby('datetime')['action'].count()\n",
    "datetime_counts = datetime_counts.sort_values(ascending=False).head(20)\n",
    "datetime_counts"
   ]
  },
  {
   "cell_type": "code",
   "execution_count": 33,
   "id": "64b4c555",
   "metadata": {},
   "outputs": [
    {
     "data": {
      "application/vnd.microsoft.datawrangler.viewer.v0+json": {
       "columns": [
        {
         "name": "datetime",
         "rawType": "object",
         "type": "string"
        },
        {
         "name": "action",
         "rawType": "int64",
         "type": "integer"
        }
       ],
       "ref": "40daad62-bc53-4b02-9748-ab5b8825d934",
       "rows": [
        [
         "2024-11-10",
         "161674"
        ],
        [
         "2024-11-11",
         "156450"
        ],
        [
         "2024-11-09",
         "88548"
        ],
        [
         "2024-11-08",
         "73270"
        ],
        [
         "2024-11-07",
         "64054"
        ],
        [
         "2024-11-06",
         "60277"
        ],
        [
         "2024-11-05",
         "55108"
        ],
        [
         "2024-11-02",
         "52609"
        ],
        [
         "2024-11-04",
         "51335"
        ],
        [
         "2024-11-03",
         "50825"
        ],
        [
         "2024-11-01",
         "46152"
        ],
        [
         "2024-10-30",
         "40958"
        ],
        [
         "2024-10-31",
         "40949"
        ],
        [
         "2024-10-29",
         "27847"
        ],
        [
         "2024-10-28",
         "27513"
        ],
        [
         "2024-10-23",
         "23838"
        ],
        [
         "2024-10-27",
         "23706"
        ],
        [
         "2024-10-24",
         "23687"
        ],
        [
         "2024-10-22",
         "23234"
        ],
        [
         "2024-10-26",
         "22854"
        ]
       ],
       "shape": {
        "columns": 1,
        "rows": 20
       }
      },
      "text/plain": [
       "datetime\n",
       "2024-11-10    161674\n",
       "2024-11-11    156450\n",
       "2024-11-09     88548\n",
       "2024-11-08     73270\n",
       "2024-11-07     64054\n",
       "2024-11-06     60277\n",
       "2024-11-05     55108\n",
       "2024-11-02     52609\n",
       "2024-11-04     51335\n",
       "2024-11-03     50825\n",
       "2024-11-01     46152\n",
       "2024-10-30     40958\n",
       "2024-10-31     40949\n",
       "2024-10-29     27847\n",
       "2024-10-28     27513\n",
       "2024-10-23     23838\n",
       "2024-10-27     23706\n",
       "2024-10-24     23687\n",
       "2024-10-22     23234\n",
       "2024-10-26     22854\n",
       "Name: action, dtype: int64"
      ]
     },
     "execution_count": 33,
     "metadata": {},
     "output_type": "execute_result"
    }
   ],
   "source": [
    "# Top 10 datetime have action 'favourite'\n",
    "datetime_counts = df[df['action'] == 'favourite'].groupby('datetime')['action'].count()\n",
    "datetime_counts = datetime_counts.sort_values(ascending=False).head(20)\n",
    "datetime_counts"
   ]
  },
  {
   "cell_type": "code",
   "execution_count": 34,
   "id": "6fb139b5",
   "metadata": {},
   "outputs": [
    {
     "data": {
      "image/png": "[encoded data removed]",
      "text/plain": [
       "<Figure size 640x480 with 1 Axes>"
      ]
     },
     "metadata": {},
     "output_type": "display_data"
    }
   ],
   "source": [
    "# Line chart for count action 'purchase' per month\n",
    "import matplotlib.pyplot as plt\n",
    "\n",
    "df['datetime'] = pd.to_datetime(df['datetime'])\n",
    "df['month'] = df['datetime'].dt.to_period('M')\n",
    "monthly_counts = df[df['action'] == 'purchase'].groupby('month')['action'].count()\n",
    "monthly_counts = monthly_counts.sort_index()\n",
    "monthly_counts.plot(kind='line', marker='o')\n",
    "plt.title('Monthly Purchase Counts')\n",
    "plt.xlabel('Month')\n",
    "plt.ylabel('Count')\n",
    "plt.xticks(rotation=45)\n",
    "plt.grid()"
   ]
  },
  {
   "cell_type": "code",
   "execution_count": 40,
   "id": "3741ce0d",
   "metadata": {},
   "outputs": [
    {
     "data": {
      "image/png": "[encoded data removed]",
      "text/plain": [
       "<Figure size 1000x600 with 1 Axes>"
      ]
     },
     "metadata": {},
     "output_type": "display_data"
    }
   ],
   "source": [
    "monthly_action_counts = df.groupby(['month', 'action'])['action'].count().unstack(fill_value=0)\n",
    "monthly_action_counts = monthly_action_counts.sort_index()\n",
    "monthly_action_counts.plot(kind='bar', figsize=(10, 6), width=0.8)\n",
    "plt.title('Monthly Action Counts')\n",
    "plt.xlabel('Month')\n",
    "plt.ylabel('Count')\n",
    "plt.xticks(rotation=45)\n",
    "plt.grid(axis='y', linestyle='--', alpha=0.7)\n",
    "plt.legend(title='Action', labels=['add-to-cart', 'click', 'purchase', 'favourite'])\n",
    "plt.tight_layout()\n",
    "plt.show()"
   ]
  },
  {
   "cell_type": "code",
   "execution_count": null,
   "id": "09105ce8",
   "metadata": {},
   "outputs": [],
   "source": []
  }
 ],
 "metadata": {
  "kernelspec": {
   "display_name": "Python 3",
   "language": "python",
   "name": "python3"
  },
  "language_info": {
   "codemirror_mode": {
    "name": "ipython",
    "version": 3
   },
   "file_extension": ".py",
   "mimetype": "text/x-python",
   "name": "python",
   "nbconvert_exporter": "python",
   "pygments_lexer": "ipython3",
   "version": "3.12.0"
  }
 },
 "nbformat": 4,
 "nbformat_minor": 5
}
